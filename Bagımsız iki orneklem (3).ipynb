{
 "cells": [
  {
   "cell_type": "markdown",
   "metadata": {},
   "source": [
    " # BAGIMSIZ İKİ ÖRNEKLEM T TESTİ (A/B TESTİ)"
   ]
  },
  {
   "cell_type": "markdown",
   "metadata": {},
   "source": [
    "İki bağımsız grup arasında ortalamalar açısından istatistiksel olarak anlamlı bir fark olup olmadığını test etmek için kullanılan parametrik bir testtir. Örneğin farklı sınıfların yabancı dil sınav puanları veya bir ilacı kullanan ve kullanmayan hasta grupları gibi birbirinden bağımsız örneklem grupları arasındaki karşılaştırmadır. Ortalamaları incelendiğinde iki grup arasında fark görülebilir ancak bu durum rastgele mi oluştu yani alınan rassal örnekleme göre mi elde edildi yoksa istatistiksel olarak da ortalamalar arasında bir fark var mı? Bu sorunun cevabını öğrenebilmek için AB testi yapılır. \n",
    "### Güven Aralığı\n",
    "Anakütle parametresinin tahmini değerini kapsayabilecek iki sayıdan oluşan bir aralık olmasıdır. Örneğin bir web sitesinde geçirilen sürenin güven aralığı nedir? \n",
    "\n",
    "### Güven Aralığı Hesaplama:\n",
    "1.\tAdım: n, ortalama ve standart sapmayı bul.\n",
    "2.\tAdım: Güven aralığına karar ver: 95 mi 99 mu? (Z tablo değeri hesaplanır (1,96-2,57))\n",
    "3.\tAdım: Güven aralığını hesapla: \\begin{align} \\bar{x} \\pm z\\frac{s}{\\sqrt{n}} \\end{align} x: ortalama, s: standart sapma, n: gözlem sayısı, z: tablo değeri \n",
    "\n",
    "\n",
    "### Hipotez\n",
    "Olaylar arasında bilimsel olarak ilişki kurmak için yapılan önerme, öngörü veya tahmindir. \n",
    "### Hipotez Testi\n",
    "Bir tahmini, bir savı test etmek için kullanılan istatistiksel bir tekniktir. H0 null(sıfır) hipotezi, H1 alternatif hipotezdir. \n",
    "### H0 ve H1\n",
    "Doğru olduğundan kuşku duyulan durum H0 (null) hipotezidir, doğru olduğuna inandığımız durum ise H1 (alternative) hipotezdir. H0 hipotezi karşılaştırmalar arasında bir fark olmadığını savunur. Karşılaştırılan iki değer arasında anlamlı bir farkın olduğunu savunma durumu ise H1 hipotezidir. Yani alternatif hipotez H1, H0'ın doğru olmadığını iddia eder. H0 hipotezinin reddedilmesi karşılaştırılan iki durum arasında anlamlı bir fark olduğunu gösterir.  \n",
    "\n",
    "Örneğin bir sınıftaki yaş ortalamasının 24 olduğu bilinmekteyse:\n",
    "\n",
    "  H0: π = 24  &emsp;    H0: π = 24   &emsp;      H0: π = 24        \n",
    "  H1: π ≠ 24  &emsp;    H1: π < 24   &emsp;      H1: π > 24\n",
    "\n",
    "Alternatif hipotez karara göre değişmektedir. Eşitlik olmadığını büyük ya da küçük olduğunu söyleyebilir. \n",
    "### Hatalar\n",
    "Hata Tipleri\n",
    "\n",
    "- H0 doğru iken H0 hipotezinin reddedilmemesi (Doğru karar) 1-$\\alpha$ güven düzeyini gösterir. Gerçekte doğru olan H0 hipotezini kabul etme olasılığıdır. \n",
    "- H0 yanlış iken H0 hipotezinin reddedilmesi (Doğru karar) 1-$\\beta$ testin gücüdür. Gerçekte yanlış olan H0 hipotezini reddetme olasılığını gösterir. \n",
    "- I. tip hata ($\\alpha$) H0 hipotezi doğru iken H0 hipotezinin reddedilmesi\n",
    "- II. tip hata ($\\beta$) H0 hipotezi yanlış iken H0 hipotezinin kabul edilmesi\n",
    "\n",
    "\n",
    "<style type=\"text/css\">\n",
    ".tg  {border-collapse:collapse;border-spacing:0;}\n",
    ".tg td{border-color:black;border-style:solid;border-width:1px;font-family:Arial, sans-serif;font-size:14px;\n",
    "  overflow:hidden;padding:10px 5px;word-break:normal;}\n",
    ".tg th{border-color:black;border-style:solid;border-width:1px;font-family:Arial, sans-serif;font-size:14px;\n",
    "  font-weight:normal;overflow:hidden;padding:10px 5px;word-break:normal;}\n",
    ".tg .tg-23yt{border-color:#000000;text-align:center;vertical-align:top}\n",
    ".tg .tg-wp8o{border-color:#000000;text-align:center;vertical-align:top}\n",
    ".tg .tg-ysmt{border-color:#333333;text-align:center;vertical-align:top}\n",
    ".tg .tg-ao2g{border-color:#333333;text-align:center;vertical-align:top}\n",
    "</style>\n",
    "<table class=\"tg\">\n",
    "<thead>\n",
    "  <tr>\n",
    "    <th class=\"tg-wp8o\" colspan=\"2\" rowspan=\"2\"></th>\n",
    "    <th class=\"tg-ao2g\" colspan=\"2\"><span style=\"font-weight:bold\">Hipotez Testi Sonucu Verilen Karar</span></th>\n",
    "  </tr>\n",
    "  <tr>\n",
    "    <td class=\"tg-ao2g\">H0 reddedilmedi</td>\n",
    "    <td class=\"tg-ysmt\">H0 reddedildi</td>\n",
    "  </tr>\n",
    "</thead>\n",
    "<tbody>\n",
    "  <tr>\n",
    "    <td class=\"tg-wp8o\" rowspan=\"2\"><span style=\"font-weight:bold\">Gerçek</span></td>\n",
    "    <td class=\"tg-23yt\">H0 Doğru</td>\n",
    "    <td class=\"tg-wp8o\">Doğru Karar<br>(1-$\\alpha$) $\\rightarrow$  Güven düzeyi</td>\n",
    "    <td class=\"tg-23yt\">I. Tip Hata<br>$\\alpha$</td>\n",
    "  </tr>\n",
    "  <tr>\n",
    "    <td class=\"tg-23yt\">H0 Yanlış</td>\n",
    "    <td class=\"tg-wp8o\">II. Tip Hata<br>$\\beta$</td>\n",
    "    <td class=\"tg-23yt\">Doğru Karar<br>(1-$\\beta$) $\\rightarrow$ Testin gücü</td>\n",
    "  </tr>\n",
    "</tbody>\n",
    "</table>\n",
    "\n",
    "### Significant level \n",
    "$\\alpha$ olarak gösterilen önem düzeyi (significance level), sıfır hipotezini reddetmeden ve etkinin istatistiksel olarak anlamlı olduğu sonucuna varmadan önce örneğinizde bulunması gereken kanıtın gücünün bir ölçüsüdür. Deney gerçekleştirilmeden önce önem düzeyinin belirlenmesi gerekir. \n",
    "\n",
    "Yaygın olarak kullanılan önem düzeyleri \n",
    "* %99\t(α =\t0.01)\n",
    "* %95\t(α =\t0.05)\n",
    "* %90\t(α =\t0.10)\n",
    "\n",
    "### P-value\n",
    "   \n",
    "   Hipotez testini değerlendirmek için elde edilen olasılık değeri olarak tanımlanabilir. Kabul edilen önem düzeyinden (significance level) düşükse H0 hipotezi reddedilir. "
   ]
  },
  {
   "cell_type": "markdown",
   "metadata": {},
   "source": [
    "# Verinin incelenmesi\n",
    "\n",
    "Bu çalışmada gerçek veri seti kullanıldığı için veri paylaşılamamakta ancak sonuçlar açıkça gösterilmektedir. \n",
    "\n",
    "Büyük bir firma mevcut olan reklam verme türüne (\"maksimum teklif verme\") alternatif olarak yeni bir teklif türünü (\"ortalama teklif verme\") tanıtmıştır.\n",
    "Amaç bu yeni özelliği test etmek ve \"ortalama teklif verme\"nin \"maksimum teklif verme\"den daha fazla getirisi olup olmadığını anlamak için bir A / B testi yapmaktır.\n",
    "\n",
    "Bu test için kullanıcılar test ve kontrol grubu olarak rastgele iki eşit büyüklükteki gruba ayrılır. \n",
    "\"maksimum teklif\" içeren reklam kampanyası \"kontrol grubuna\" sunulur ve \"ortalama teklif\" içeren kampanya \"test grubuna\" sunulur.\n",
    "Oluşan veri setinde kontrol ve test grubu eşit sayıda ve 40'ar örnek içermektedir. İki grupta da 4 değişken bulunmaktadır: İzlenme sayısı (Impression), Tıklanma sayısı (Click), Satın alma (Purchase), Kazanç (Earning). \n",
    "\n",
    "<style type=\"text/css\">\n",
    ".tg  {border-collapse:collapse;border-spacing:0;}\n",
    ".tg td{border-color:black;border-style:solid;border-width:1px;font-family:Arial, sans-serif;font-size:14px;\n",
    "  overflow:hidden;padding:10px 5px;word-break:normal;}\n",
    ".tg th{border-color:black;border-style:solid;border-width:1px;font-family:Arial, sans-serif;font-size:14px;\n",
    "  font-weight:normal;overflow:hidden;padding:10px 5px;word-break:normal;}\n",
    ".tg .tg-c3ow{border-color:inherit;text-align:center;vertical-align:top}\n",
    ".tg .tg-wp8o{border-color:#000000;text-align:center;vertical-align:top}\n",
    ".tg .tg-ly6r{border-color:#efefef;text-align:left;vertical-align:top}\n",
    ".tg .tg-0pky{border-color:inherit;text-align:left;vertical-align:top}\n",
    ".tg .tg-73oq{border-color:#000000;text-align:left;vertical-align:top}\n",
    "</style>\n",
    "<table class=\"tg\">\n",
    "<thead>\n",
    "  <tr>\n",
    "    <th class=\"tg-c3ow\" colspan=\"5\">Kontrol Grubu (maksimum teklif)</th>\n",
    "    <th class=\"tg-ly6r\"></th>\n",
    "    <th class=\"tg-wp8o\" colspan=\"5\">Test Grubu (ortalama teklif)</th>\n",
    "  </tr>\n",
    "</thead>\n",
    "<tbody>\n",
    "  <tr>\n",
    "    <td class=\"tg-0pky\"></td>\n",
    "    <td class=\"tg-0pky\">İzlenme Sayısı</td>\n",
    "    <td class=\"tg-0pky\">Tıklanma sayısı</td>\n",
    "    <td class=\"tg-0pky\">Satın Alma</td>\n",
    "    <td class=\"tg-0pky\">Kazanç</td>\n",
    "    <td class=\"tg-ly6r\"></td>\n",
    "    <td class=\"tg-73oq\"></td>\n",
    "    <td class=\"tg-0pky\">İzlenme Sayısı</td>\n",
    "    <td class=\"tg-0pky\">Tıklanma sayısı</td>\n",
    "    <td class=\"tg-0pky\">Satın Alma</td>\n",
    "    <td class=\"tg-0pky\">Kazanç</td>\n",
    "  </tr>\n",
    "  <tr>\n",
    "    <td class=\"tg-0pky\">1</td>\n",
    "    <td class=\"tg-0pky\"></td>\n",
    "    <td class=\"tg-0pky\"></td>\n",
    "    <td class=\"tg-0pky\"></td>\n",
    "    <td class=\"tg-0pky\"></td>\n",
    "    <td class=\"tg-ly6r\"></td>\n",
    "    <td class=\"tg-73oq\">1</td>\n",
    "    <td class=\"tg-0pky\"></td>\n",
    "    <td class=\"tg-0pky\"></td>\n",
    "    <td class=\"tg-0pky\"></td>\n",
    "    <td class=\"tg-0pky\"></td>\n",
    "  </tr>\n",
    "  <tr>\n",
    "    <td class=\"tg-0pky\">2</td>\n",
    "    <td class=\"tg-0pky\"></td>\n",
    "    <td class=\"tg-0pky\"></td>\n",
    "    <td class=\"tg-0pky\"></td>\n",
    "    <td class=\"tg-0pky\"></td>\n",
    "    <td class=\"tg-ly6r\"></td>\n",
    "    <td class=\"tg-73oq\">2</td>\n",
    "    <td class=\"tg-0pky\"></td>\n",
    "    <td class=\"tg-0pky\"></td>\n",
    "    <td class=\"tg-0pky\"></td>\n",
    "    <td class=\"tg-0pky\"></td>\n",
    "  </tr>\n",
    "  <tr>\n",
    "    <td class=\"tg-0pky\">...</td>\n",
    "    <td class=\"tg-0pky\"></td>\n",
    "    <td class=\"tg-0pky\"></td>\n",
    "    <td class=\"tg-0pky\"></td>\n",
    "    <td class=\"tg-0pky\"></td>\n",
    "    <td class=\"tg-ly6r\"></td>\n",
    "    <td class=\"tg-73oq\">...</td>\n",
    "    <td class=\"tg-0pky\"></td>\n",
    "    <td class=\"tg-0pky\"></td>\n",
    "    <td class=\"tg-0pky\"></td>\n",
    "    <td class=\"tg-0pky\"></td>\n",
    "  </tr>\n",
    "  <tr>\n",
    "    <td class=\"tg-0pky\">40</td>\n",
    "    <td class=\"tg-0pky\"></td>\n",
    "    <td class=\"tg-0pky\"></td>\n",
    "    <td class=\"tg-0pky\"></td>\n",
    "    <td class=\"tg-0pky\"></td>\n",
    "    <td class=\"tg-ly6r\"></td>\n",
    "    <td class=\"tg-73oq\">40</td>\n",
    "    <td class=\"tg-0pky\"></td>\n",
    "    <td class=\"tg-0pky\"></td>\n",
    "    <td class=\"tg-0pky\"></td>\n",
    "    <td class=\"tg-0pky\"></td>\n",
    "  </tr>\n",
    "</tbody>\n",
    "</table>\n",
    "\n",
    "Bu çalışmada istatistiksel test için satın alma değişkenine odaklanılır. "
   ]
  },
  {
   "cell_type": "code",
   "execution_count": 1,
   "metadata": {},
   "outputs": [],
   "source": [
    "# Gerekli olan kütüphanelerin import edilmesi\n",
    "import numpy as np\n",
    "import pandas as pd\n",
    "import scipy.stats as stats\n",
    "import matplotlib.pyplot as plt\n",
    "import seaborn as sns"
   ]
  },
  {
   "cell_type": "code",
   "execution_count": 2,
   "metadata": {},
   "outputs": [],
   "source": [
    "# Dataset okunur\n",
    "col_list = [\"Impression\", \"Click\", \"Purchase\", \"Earning\"]\n",
    "df_control = pd.read_csv(\"ab_maximum_control.csv\", sep=\",\", usecols=col_list)\n",
    "df_test = pd.read_csv(\"ab_average_test.csv\", sep=\",\", usecols=col_list)"
   ]
  },
  {
   "cell_type": "code",
   "execution_count": 3,
   "metadata": {},
   "outputs": [
    {
     "data": {
      "text/html": [
       "<div>\n",
       "<style scoped>\n",
       "    .dataframe tbody tr th:only-of-type {\n",
       "        vertical-align: middle;\n",
       "    }\n",
       "\n",
       "    .dataframe tbody tr th {\n",
       "        vertical-align: top;\n",
       "    }\n",
       "\n",
       "    .dataframe thead th {\n",
       "        text-align: right;\n",
       "    }\n",
       "</style>\n",
       "<table border=\"1\" class=\"dataframe\">\n",
       "  <thead>\n",
       "    <tr style=\"text-align: right;\">\n",
       "      <th></th>\n",
       "      <th>Impression</th>\n",
       "      <th>Click</th>\n",
       "      <th>Purchase</th>\n",
       "      <th>Earning</th>\n",
       "    </tr>\n",
       "  </thead>\n",
       "  <tbody>\n",
       "    <tr>\n",
       "      <th>0</th>\n",
       "      <td>120104</td>\n",
       "      <td>3217</td>\n",
       "      <td>702</td>\n",
       "      <td>1940</td>\n",
       "    </tr>\n",
       "    <tr>\n",
       "      <th>1</th>\n",
       "      <td>134776</td>\n",
       "      <td>3635</td>\n",
       "      <td>834</td>\n",
       "      <td>2929</td>\n",
       "    </tr>\n",
       "  </tbody>\n",
       "</table>\n",
       "</div>"
      ],
      "text/plain": [
       "   Impression  Click  Purchase  Earning\n",
       "0      120104   3217       702     1940\n",
       "1      134776   3635       834     2929"
      ]
     },
     "execution_count": 3,
     "metadata": {},
     "output_type": "execute_result"
    }
   ],
   "source": [
    "df_test.head(2)"
   ]
  },
  {
   "cell_type": "markdown",
   "metadata": {},
   "source": [
    "- Purchase (satın alma) değişkeni ile ilgilendiğimiz için kontrol ve test grubunda satın alma değişkenleri birleştirilir. \"Maximum\" sütunu kontrol grubunun satın alma, \"Average\" sütunu ise test grubunun satın alma sütunundan gelir.  "
   ]
  },
  {
   "cell_type": "code",
   "execution_count": 4,
   "metadata": {},
   "outputs": [
    {
     "data": {
      "text/html": [
       "<div>\n",
       "<style scoped>\n",
       "    .dataframe tbody tr th:only-of-type {\n",
       "        vertical-align: middle;\n",
       "    }\n",
       "\n",
       "    .dataframe tbody tr th {\n",
       "        vertical-align: top;\n",
       "    }\n",
       "\n",
       "    .dataframe thead th {\n",
       "        text-align: right;\n",
       "    }\n",
       "</style>\n",
       "<table border=\"1\" class=\"dataframe\">\n",
       "  <thead>\n",
       "    <tr style=\"text-align: right;\">\n",
       "      <th></th>\n",
       "      <th>Maximum</th>\n",
       "      <th>Average</th>\n",
       "    </tr>\n",
       "  </thead>\n",
       "  <tbody>\n",
       "    <tr>\n",
       "      <th>0</th>\n",
       "      <td>665</td>\n",
       "      <td>702</td>\n",
       "    </tr>\n",
       "    <tr>\n",
       "      <th>1</th>\n",
       "      <td>315</td>\n",
       "      <td>834</td>\n",
       "    </tr>\n",
       "  </tbody>\n",
       "</table>\n",
       "</div>"
      ],
      "text/plain": [
       "   Maximum  Average\n",
       "0      665      702\n",
       "1      315      834"
      ]
     },
     "execution_count": 4,
     "metadata": {},
     "output_type": "execute_result"
    }
   ],
   "source": [
    "A_B = pd.concat([df_control[\"Purchase\"], df_test[\"Purchase\"]], axis=1)\n",
    "A_B.columns = [\"Maximum\", \"Average\"]\n",
    "\n",
    "A_B.head(2)"
   ]
  },
  {
   "cell_type": "code",
   "execution_count": 5,
   "metadata": {},
   "outputs": [
    {
     "data": {
      "image/png": "[encoded data removed]",
      "text/plain": [
       "<Figure size 432x288 with 1 Axes>"
      ]
     },
     "metadata": {
      "needs_background": "light"
     },
     "output_type": "display_data"
    }
   ],
   "source": [
    "# Ortalamalar incelenir\n",
    "values, names, xs = [], [], []\n",
    "\n",
    "for i, col in enumerate(A_B.columns):\n",
    "    values.append(A_B[col].values)\n",
    "    names.append(col)\n",
    "    xs.append(np.random.normal(i + 1, 0.04, A_B[col].values.shape[0]))\n",
    "plt.boxplot(values, labels=names)\n",
    "palette = ['r', 'g']\n",
    "for x, val, c in zip(xs, values, palette):\n",
    "    plt.scatter(x, val, alpha=0.4, color=c)\n",
    "plt.show()   \n",
    "    "
   ]
  },
  {
   "cell_type": "markdown",
   "metadata": {},
   "source": [
    "- Average teklif (yeni) sunulan test grubunun medyanı Maximum teklif (mevcut) sunulan kontrol grubunun medyanından daha iyi görünmektedir. Bu durumda yeni yöntemin satın alma açısından daha iyi olduğunu söyleyebiliriz. \n"
   ]
  },
  {
   "cell_type": "markdown",
   "metadata": {},
   "source": [
    "- Peki bu durum rastgele mi oluştu yoksa istatistiksel olarak da yeni teklif daha iyidir diyebilir miyiz? A/B test ile bu durumu test edebiliriz. \n"
   ]
  },
  {
   "cell_type": "markdown",
   "metadata": {},
   "source": [
    "**Datasetimizde NA veya outlier değerler olmadığını gördük. Eğer olsaydı onların temizlenmesi değiştirilmesi veya baskılanması gerekebilir ve bu durum da test sonuçlarını etkileyebilirdi.**  "
   ]
  },
  {
   "cell_type": "markdown",
   "metadata": {},
   "source": [
    "# Bağımsız 2 Örneklem T Testi (A/B Test)\n",
    "\n",
    "A/B testini uygulayabilmek için varsayımların sağlanıp sağlanmadığı kontrol edilir. **Bağımsız 2 örneklem T testinin (AB Testi) uygulanabilmesi için Normal dağılım ve varyans homojenliği varsayımlarının sağlanması gerekir.**\n",
    "\n",
    "## Varsayım Kontrolü\n",
    "\n",
    "### 1.Normallik Varsayımı\n",
    "Normallik varsayımını kontrol etmek için Shapiro Wilk testini kullanıyoruz. Her iki dağılım (kontrol ve test grubu) için de test yapılır. Teste göre:\n",
    "- H0: Örnek dağılımı ile teorik normal dağılım arasında istatistiki olarak anlamlı bir fark yoktur.\n",
    "- H1: Örnek dağılımı ile teorik normal dağılım arasında istatistiki olarak anlamlı bir fark vardır.\n",
    "\n",
    "H0 reddedilemiyorsa (yani p-value küçük değilse 0.05’ten) örnek dağılım ile normal dağılım arasındaki fark yoktur denir. Yani normal dağılım varsayımı sağlanmıştır. "
   ]
  },
  {
   "cell_type": "code",
   "execution_count": 6,
   "metadata": {},
   "outputs": [
    {
     "data": {
      "text/plain": [
       "ShapiroResult(statistic=0.9773737788200378, pvalue=0.5928739905357361)"
      ]
     },
     "execution_count": 6,
     "metadata": {},
     "output_type": "execute_result"
    }
   ],
   "source": [
    "from scipy.stats import shapiro\n",
    "shapiro(A_B[\"Maximum\"])  # p-value > 0.05 H0 reddedilemez"
   ]
  },
  {
   "cell_type": "code",
   "execution_count": 7,
   "metadata": {},
   "outputs": [
    {
     "data": {
      "text/plain": [
       "ShapiroResult(statistic=0.9589440226554871, pvalue=0.15411686897277832)"
      ]
     },
     "execution_count": 7,
     "metadata": {},
     "output_type": "execute_result"
    }
   ],
   "source": [
    "shapiro(A_B[\"Average\"])  # p-value > 0.05 H0 reddedilemez"
   ]
  },
  {
   "cell_type": "markdown",
   "metadata": {},
   "source": [
    "- Normallik testi (Shapiro Wilk) sonucuna göre iki grup için de H0 reddedilemedi yani hem kontrol grubu hem de test grubu normal dağılım göstermektedir. "
   ]
  },
  {
   "cell_type": "markdown",
   "metadata": {},
   "source": [
    "### 2.Varyans Homojenliği Varsayımı\n",
    "\n",
    "Varyans homojenliği varsayımına göre: \n",
    "- H0: Varyanslar Homojendir\n",
    "- H1: Varyanslar Homojen Değildir\n",
    "\n",
    "Varyans homojenliği Levene testi kullanılarak değerlendirilir. "
   ]
  },
  {
   "cell_type": "code",
   "execution_count": 8,
   "metadata": {},
   "outputs": [
    {
     "data": {
      "text/plain": [
       "LeveneResult(statistic=2.640298470042385, pvalue=0.10821824555495507)"
      ]
     },
     "execution_count": 8,
     "metadata": {},
     "output_type": "execute_result"
    }
   ],
   "source": [
    "stats.levene(A_B[\"Maximum\"], A_B[\"Average\"])"
   ]
  },
  {
   "cell_type": "markdown",
   "metadata": {},
   "source": [
    "- Varsayım testi sonucuna göre, p değeri 0.05'ten büyük olduğu için H0'ı reddedemeyiz. Yani varyanslar homojendir. \n",
    "- Varsayımlar sağlandığına göre A/B testi uygulanabilir. \n",
    "- Eğer normallik sağlanmazsa:\n",
    "1.\tBağımsız iki örneklem ise Mann Whitney U testi uygulanır. (Nonparamteric bağımsız iki örneklem )\n",
    "2.\tBağımlı iki örneklem ise Wilcoxon testi uygulanır. (Nonparamteric bağımlı iki örneklem )\n",
    "- Eğer sadece varyans homojenliği sağlanmazsa Welch testi uygulanır. \n"
   ]
  },
  {
   "cell_type": "markdown",
   "metadata": {},
   "source": [
    "# Bağımsız 2 örneklem t testinin uygulanması "
   ]
  },
  {
   "cell_type": "markdown",
   "metadata": {},
   "source": [
    "Varsayımlar sağlandığına göre 2 örneklem t testi uygulanabilir. \n",
    "\n",
    "- H0: M1 = M2 Eski sistem ile yeni sistem karşılaştırıldığında iki grupta satın alma ortalamaları arasında istatistiksel olarak anlamlı bir fark yoktur.\n",
    "- H1: M1 != M2 Eski sistem ile yeni sistem karşılaştırıldığında iki grupta satın alma ortalamaları arasında istatistiksel olarak anlamlı bir fark vardır. "
   ]
  },
  {
   "cell_type": "code",
   "execution_count": 9,
   "metadata": {},
   "outputs": [
    {
     "name": "stdout",
     "output_type": "stream",
     "text": [
      "Test İstatistiği = -0.9396, p-değeri = 0.3503\n"
     ]
    }
   ],
   "source": [
    "stats.ttest_ind(A_B[\"Maximum\"], A_B[\"Average\"], equal_var=True)\n",
    "test_istatistigi, pvalue = stats.ttest_ind(A_B[\"Maximum\"], A_B[\"Average\"], equal_var=True)\n",
    "print('Test İstatistiği = %.4f, p-değeri = %.4f' % (test_istatistigi, pvalue))"
   ]
  },
  {
   "cell_type": "markdown",
   "metadata": {},
   "source": [
    "H0 reddedilemez çünkü p-value = 0.3503 > 0.05\n",
    "Yani Kontrol grubu ile test grubunun ürün satın alma ortalamaları arasında istatistiksel olarak anlamlı bir farklılık bulunmamaktadır. \n"
   ]
  },
  {
   "cell_type": "markdown",
   "metadata": {},
   "source": [
    "Bu durumda karşılaştırma yapabileceğimiz diğer metrikler uygulanabilir. \n",
    "\n",
    "\n",
    "1. CTR -> Click Through Rate \n",
    "- Kullanıcıların reklamı ne kadar çok tıkladıklarını gösterir.\n",
    "- Reklam tıklanma sayısı (Click) / Reklam izlenme sayısı (Impression)\n",
    "\n",
    "\n",
    "2. CR -> Conversion Rate\n",
    "- Dönüşüm oranı: siteyi ziyaret eden kullanıcıların kaçı istenilen eylemi gerçekleştirmiştir. Yani sitenin ziyret edilmesi ile satın alınma oranına bakılır. \n",
    "- Satın alma sayısı (Purchase) / İzlenme sayısı (Impression)\n",
    "\n",
    "Bu metrikler oran hesaplanarak bulunduğu için ve oran karşılaştırıldığı için Bağımsız 2 örneklem oran testi uygulanır. \n",
    "\n",
    "## Website Click Through Rate (CTR)\n"
   ]
  },
  {
   "cell_type": "code",
   "execution_count": 10,
   "metadata": {},
   "outputs": [
    {
     "name": "stdout",
     "output_type": "stream",
     "text": [
      "0.05014799218770355\n",
      "0.03292233145254524\n"
     ]
    }
   ],
   "source": [
    "df_control_ctr = df_control[\"Click\"].sum() / df_control[\"Impression\"].sum()\n",
    "print(df_control_ctr)\n",
    "df_test_ctr = df_test[\"Click\"].sum() / df_test[\"Impression\"].sum()\n",
    "print(df_test_ctr)"
   ]
  },
  {
   "cell_type": "markdown",
   "metadata": {},
   "source": [
    "Kontrol grubunun test grubundan daha iyi olduğu görülmektedir. Ancak istatistiksel olarak da kontrol edilmesi gerekir. \n",
    "\n",
    "2 örneklem oran testi varsayımları:\n",
    "1. n1 > 30\n",
    "2. n2 > 30\n",
    "- H0: Deneyin kullanıcı davranışına istatistiksel olarak anlamlı etkisi yoktur. \n",
    "- H1: Deneyin kullanıcı davranışına istatistiksel olarak anlamlı etkisi vardır. \n"
   ]
  },
  {
   "cell_type": "code",
   "execution_count": 11,
   "metadata": {},
   "outputs": [
    {
     "data": {
      "text/plain": [
       "(129.3283262976726, 0.0)"
      ]
     },
     "execution_count": 11,
     "metadata": {},
     "output_type": "execute_result"
    }
   ],
   "source": [
    "from statsmodels.stats.proportion import proportions_ztest\n",
    "click_num = np.array([df_control[\"Click\"].sum(), df_test[\"Click\"].sum()])\n",
    "impressions = np.array([df_control[\"Impression\"].sum(), df_test[\"Impression\"].sum()])\n",
    "\n",
    "proportions_ztest(count=click_num, nobs=impressions)\n",
    "# Sonuç: pval< 0.05 olduğu için H0 reddedilir. \n",
    "# Reklam teklifi yöntemlerinin kullanıcı davranışına(tıklama) etkisinin farklı olduğu gözlemlenir. \n",
    "# Bu farklılık mevcut durumdaki \"maximum teklif verme\" yöntemi lehinedir. Bu durumu tıklanma oranlarına bakarak gözlemlemiştik. \n"
   ]
  },
  {
   "cell_type": "markdown",
   "metadata": {},
   "source": [
    "## Conversion Rate (CR)\n",
    "\n",
    "CTR oranında olduğu gibi dönüşüm oranında da ilk önce bölüm oranına bakarız. "
   ]
  },
  {
   "cell_type": "code",
   "execution_count": 12,
   "metadata": {},
   "outputs": [
    {
     "name": "stdout",
     "output_type": "stream",
     "text": [
      "0.05014799218770355\n",
      "0.004829792446712445\n"
     ]
    }
   ],
   "source": [
    "df_control_cr = df_control[\"Purchase\"].sum() / df_control[\"Impression\"].sum()\n",
    "print(df_control_ctr)\n",
    "df_test_ctr = df_test[\"Purchase\"].sum() / df_test[\"Impression\"].sum()\n",
    "print(df_test_ctr)"
   ]
  },
  {
   "cell_type": "markdown",
   "metadata": {},
   "source": [
    "Sonuca baktığımızda 0.050 > 0.004 olduğundan, mevcut reklam teklifinde tıklanma sayısına göre satın alma oranının yeni tekliftekine göre daha iyi olduğu çıkarımını yapabiliyoruz. Ancak bu durum tesadüfen mi oluştu yoksa istatistiksel olarak da anlamlı bir faklılık var mı? Bunun için bağımsız 2 örneklem oran testine bakarız. "
   ]
  },
  {
   "cell_type": "markdown",
   "metadata": {},
   "source": [
    "2 örneklem oran testi varsayımları:\n",
    "1. n1 > 30\n",
    "2. n2 > 30\n",
    "- H0: Deneyin kullanıcı davranışına istatistiksel olarak anlamlı etkisi yoktur. \n",
    "- H1: Deneyin kullanıcı davranışına istatistiksel olarak anlamlı etkisi vardır. \n",
    "    "
   ]
  },
  {
   "cell_type": "code",
   "execution_count": 13,
   "metadata": {},
   "outputs": [
    {
     "data": {
      "text/plain": [
       "(12.232379854771155, 2.087321934700134e-34)"
      ]
     },
     "execution_count": 13,
     "metadata": {},
     "output_type": "execute_result"
    }
   ],
   "source": [
    "from statsmodels.stats.proportion import proportions_ztest\n",
    "purchase_num = np.array([df_control[\"Purchase\"].sum(), df_test[\"Purchase\"].sum()])\n",
    "impressions = np.array([df_control[\"Impression\"].sum(), df_test[\"Impression\"].sum()])\n",
    "\n",
    "proportions_ztest(count=purchase_num, nobs=impressions)\n",
    "# Sonuç: pval < 0.05 olduğu için H0 reddedilir. \n",
    "# Reklam teklifi yöntemlerinin kullanıcı davranışına(satın alma) etkisinin farklı olduğu gözlemlenir. \n",
    "# Bu farklılık mevcut durumdaki \"maximum teklif verme\" yöntemi lehinedir. \n",
    "# 0.050 > 0.004 bu karşılaştırmadan mevcut durumun lehinedir diyebiliriz.\n"
   ]
  },
  {
   "cell_type": "markdown",
   "metadata": {},
   "source": [
    "## Sonuç\n",
    "- Ortalamalar incelendiğinde kontrol grubunun daha yüksek değere sahip olduğu görüldü ancak istatistiksel olarak bağımsız iki örneklem t-testi kullanılarak kanıtlanması gerekliydi.\n",
    "- Normallik varsayımı ve varyans homojenlikleri bağımsız iki örneklem t testi için kontrol edildi.\n",
    "- Test sonucuna göre aralarında %95 güvenle istatistiksel olarak anlamlı bir fark olmadığı görüldü.\n",
    "\n",
    "- Yeni yöntem ile mevcut durum CTR oranı ile kıyaslandığında mevcut durumun lehine olduğu gözlemlendi.\n",
    "\n",
    "- Yeni yöntem ile mevcut durum CR oranı ile kıyaslandığında mevcut durumun lehine olduğu gözlemlendi.\n",
    "\n",
    "- Mevcut yöntemin şimdilik değiştirilmemesi, eğer yöntem değiştirilmek isteniyorsa daha fazla veriyle yeniden test edilmesini önerebiliriz."
   ]
  },
  {
   "cell_type": "markdown",
   "metadata": {},
   "source": [
    "## Kaynakça\n",
    "\n",
    "https://towardsdatascience.com/scattered-boxplots-graphing-experimental-results-with-matplotlib-seaborn-and-pandas-81f9fa8a1801\n",
    "\n",
    "https://medium.com/@ng.dasci/ger%C3%A7ek-verilerle-ab-testi-uygulamas%C4%B1-yeni-reklam-teklif-y%C3%B6ntemi-sat%C4%B1n-alma-say%C4%B1s%C4%B1n%C4%B1-artt%C4%B1rd%C4%B1-m%C4%B1-f9cdd45cdb21\n",
    "\n",
    "https://gelecegiyazanlar.turkcell.com.tr/konu/veri-bilimi-icin-istatistik/egitim/veri-bilimi-icin-istatistik-201/is-uygulamasi-kullanici\n",
    "\n",
    "https://www.webtures.com/tr/blog/sozluk/conversion-rate-nedir/"
   ]
  }
 ],
 "metadata": {
  "kernelspec": {
   "display_name": "Python 3",
   "language": "python",
   "name": "python3"
  },
  "language_info": {
   "codemirror_mode": {
    "name": "ipython",
    "version": 3
   },
   "file_extension": ".py",
   "mimetype": "text/x-python",
   "name": "python",
   "nbconvert_exporter": "python",
   "pygments_lexer": "ipython3",
   "version": "3.7.7"
  }
 },
 "nbformat": 4,
 "nbformat_minor": 4
}
